{
 "cells": [
  {
   "cell_type": "markdown",
   "id": "c22d5248",
   "metadata": {},
   "source": [
    "### Lab task 6 "
   ]
  },
  {
   "cell_type": "code",
   "execution_count": 1,
   "id": "64052f40",
   "metadata": {},
   "outputs": [
    {
     "name": "stdout",
     "output_type": "stream",
     "text": [
      "Found\n",
      "Visited order: ['A', 'B', 'C', 'D', 'E', 'F', 'G']\n"
     ]
    }
   ],
   "source": [
    "from collections import deque\n",
    "\n",
    "class BFS:\n",
    "    def __init__(self, graph):\n",
    "        self.graph = graph\n",
    "\n",
    "    def search(self, start, goal):\n",
    "        visited = []\n",
    "        queue = deque([start])\n",
    "\n",
    "        while queue:\n",
    "            node = queue.popleft()\n",
    "            if node not in visited:\n",
    "                visited.append(node)\n",
    "\n",
    "                if node == goal:\n",
    "                    print(\"Found\")\n",
    "                    print(\"Visited order:\", visited)\n",
    "                    return\n",
    "\n",
    "                queue.extend(self.graph[node])\n",
    "\n",
    "        print(\"Not Found\")\n",
    "        print(\"Visited order:\", visited)\n",
    "\n",
    "\n",
    "graph = {\n",
    "    \"A\": [\"B\", \"C\"],\n",
    "    \"B\": [\"D\", \"E\"],\n",
    "    \"C\": [\"F\"],\n",
    "    \"D\": [],\n",
    "    \"E\": [],\n",
    "    \"F\": [\"G\"],\n",
    "    \"G\": []\n",
    "}\n",
    "\n",
    "bfs = BFS(graph)\n",
    "bfs.search(\"A\", \"G\")\n"
   ]
  }
 ],
 "metadata": {
  "kernelspec": {
   "display_name": "Python 3",
   "language": "python",
   "name": "python3"
  },
  "language_info": {
   "codemirror_mode": {
    "name": "ipython",
    "version": 3
   },
   "file_extension": ".py",
   "mimetype": "text/x-python",
   "name": "python",
   "nbconvert_exporter": "python",
   "pygments_lexer": "ipython3",
   "version": "3.11.9"
  }
 },
 "nbformat": 4,
 "nbformat_minor": 5
}
