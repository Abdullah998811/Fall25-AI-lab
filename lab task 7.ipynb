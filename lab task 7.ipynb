{
 "cells": [
  {
   "cell_type": "code",
   "execution_count": 2,
   "id": "1ca4c752",
   "metadata": {},
   "outputs": [
    {
     "name": "stdout",
     "output_type": "stream",
     "text": [
      "Shortest Path: X → Y → W\n",
      "Steps Count: 2\n",
      "Total Distance: 6\n"
     ]
    },
    {
     "data": {
      "text/plain": [
       "['X', 'Y', 'W']"
      ]
     },
     "execution_count": 2,
     "metadata": {},
     "output_type": "execute_result"
    }
   ],
   "source": [
    "class PathFinder:\n",
    "    def __init__(self, connections):\n",
    "        self.connections = connections\n",
    "\n",
    "    def get_links(self, node):\n",
    "        return self.connections.get(node, [])\n",
    "\n",
    "    def estimate(self, node):\n",
    "        return 1  \n",
    "\n",
    "    def trace_route(self, parents, start, goal):\n",
    "        path = []\n",
    "        current = goal\n",
    "        while current != start:\n",
    "            path.append(current)\n",
    "            current = parents[current]\n",
    "        path.append(start)\n",
    "        path.reverse()\n",
    "        return path\n",
    "\n",
    "    def find_path(self, start_point, end_point):\n",
    "        to_visit = {start_point}\n",
    "        visited = set()\n",
    "        distance = {start_point: 0}\n",
    "        parents = {start_point: None}\n",
    "\n",
    "        while to_visit:\n",
    "            current = min(to_visit, key=lambda x: distance[x] + self.estimate(x))\n",
    "\n",
    "            if current == end_point:\n",
    "                route = self.trace_route(parents, start_point, end_point)\n",
    "                print(\"Shortest Path:\", \" → \".join(route))\n",
    "                print(\"Steps Count:\", len(route) - 1)\n",
    "                print(\"Total Distance:\", distance[end_point])\n",
    "                return route\n",
    "\n",
    "            for neighbor, cost in self.get_links(current):\n",
    "                new_distance = distance[current] + cost\n",
    "                if neighbor not in distance or new_distance < distance[neighbor]:\n",
    "                    distance[neighbor] = new_distance\n",
    "                    parents[neighbor] = current\n",
    "                    if neighbor not in visited:\n",
    "                        to_visit.add(neighbor)\n",
    "\n",
    "            to_visit.remove(current)\n",
    "            visited.add(current)\n",
    "\n",
    "        print(\"No route exists between\", start_point, \"and\", end_point)\n",
    "        return None\n",
    "\n",
    "\n",
    "# Graph data (renamed)\n",
    "city_map = {\n",
    "    'X': [('Y', 1), ('Z', 3), ('W', 7)],\n",
    "    'Y': [('W', 5)],\n",
    "    'Z': [('W', 12)],\n",
    "    'W': []\n",
    "}\n",
    "\n",
    "pathfinder = PathFinder(city_map)\n",
    "pathfinder.find_path('X', 'W')\n"
   ]
  }
 ],
 "metadata": {
  "kernelspec": {
   "display_name": "Python 3",
   "language": "python",
   "name": "python3"
  },
  "language_info": {
   "codemirror_mode": {
    "name": "ipython",
    "version": 3
   },
   "file_extension": ".py",
   "mimetype": "text/x-python",
   "name": "python",
   "nbconvert_exporter": "python",
   "pygments_lexer": "ipython3",
   "version": "3.11.9"
  }
 },
 "nbformat": 4,
 "nbformat_minor": 5
}
