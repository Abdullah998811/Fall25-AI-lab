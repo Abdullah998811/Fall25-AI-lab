{
 "cells": [
  {
   "cell_type": "markdown",
   "id": "512c5168",
   "metadata": {},
   "source": [
    "### Lab 4 Task \n",
    "1. Code for LUHN Algorithm \n",
    "2. Write a python program to remove punctuations from the given string?  \n",
    "3. Write a python program to sort the sentence in alphabetical order? "
   ]
  },
  {
   "cell_type": "code",
   "execution_count": 7,
   "id": "c57a1d83",
   "metadata": {},
   "outputs": [
    {
     "name": "stdout",
     "output_type": "stream",
     "text": [
      "digit [7, 6, 5, 4, 6, 5, 7, 6]\n",
      "last value 6\n",
      "reverse [7, 5, 6, 4, 5, 6, 7]\n",
      "35\n",
      "The card number is not valid.\n"
     ]
    }
   ],
   "source": [
    "# Task 1\n",
    "card_number = \"76546576\"\n",
    "\n",
    "\n",
    "digits = []\n",
    "for d in card_number:\n",
    "    digits.append(int(d))\n",
    "print(\"digit\",digits)\n",
    "check_digit = digits[-1]\n",
    "print(\"last value\",check_digit)\n",
    "reversed_digits = digits[:-1][::-1]\n",
    "print(\"reverse\",reversed_digits)\n",
    "\n",
    "\n",
    "for i in range(len(reversed_digits)):\n",
    "    if i % 2 == 0:\n",
    "        reversed_digits[i] = reversed_digits[i] * 2\n",
    "        if reversed_digits[i] > 9:\n",
    "            reversed_digits[i] -= 9\n",
    "\n",
    "total = check_digit\n",
    "for d in reversed_digits:\n",
    "    total += d\n",
    "print(total)\n",
    "\n",
    "if total % 10 == 0:\n",
    "    print(\"The card number is valid.\")\n",
    "else:\n",
    "    print(\"The card number is not valid.\")\n",
    "\n"
   ]
  },
  {
   "cell_type": "code",
   "execution_count": 8,
   "id": "52a8246c",
   "metadata": {},
   "outputs": [
    {
     "name": "stdout",
     "output_type": "stream",
     "text": [
      "Without punctuations: \n"
     ]
    }
   ],
   "source": [
    "# Task 2\n",
    "def remove_punc(text):\n",
    "    punctuations = \"!()-[]{};:'\\\",<>./?@#$%^&*_~\"\n",
    "    result = \"\"\n",
    "    for ch in text:\n",
    "        if ch not in punctuations:\n",
    "            result += ch\n",
    "    return result\n",
    "\n",
    "\n",
    "line = input(\"Enter a sentence: \")\n",
    "print(\"Without punctuations:\", remove_punc(line))\n"
   ]
  },
  {
   "cell_type": "code",
   "execution_count": 11,
   "id": "a5362a28",
   "metadata": {},
   "outputs": [
    {
     "name": "stdout",
     "output_type": "stream",
     "text": [
      "    aadeggilooorruy\n",
      "sorted words are: a are girl good you\n"
     ]
    }
   ],
   "source": [
    "text = \"you are a good girl\"\n",
    "\n",
    "letter_list = list(text)\n",
    "\n",
    "for i in range(len(letter_list)):\n",
    "    for j in range(i + 1, len(letter_list)):\n",
    "        first = letter_list[i]\n",
    "        second = letter_list[j]\n",
    "        if first > second:\n",
    "            letter_list[i], letter_list[j] = letter_list[j], letter_list[i]\n",
    "\n",
    "\n",
    "sorted_letters = \"\".join(letter_list)\n",
    "print(sorted_letters)\n",
    "words = text.split()  \n",
    "\n",
    "for i in range(len(words)):\n",
    "    for j in range(i + 1, len(words)):\n",
    "        if words[i] > words[j]: \n",
    "            words[i], words[j] = words[j], words[i]\n",
    "\n",
    "sorted_words = \" \".join(words)\n",
    "print(\"sorted words are:\", sorted_words)\n"
   ]
  }
 ],
 "metadata": {
  "kernelspec": {
   "display_name": "Python 3",
   "language": "python",
   "name": "python3"
  },
  "language_info": {
   "codemirror_mode": {
    "name": "ipython",
    "version": 3
   },
   "file_extension": ".py",
   "mimetype": "text/x-python",
   "name": "python",
   "nbconvert_exporter": "python",
   "pygments_lexer": "ipython3",
   "version": "3.11.9"
  }
 },
 "nbformat": 4,
 "nbformat_minor": 5
}
